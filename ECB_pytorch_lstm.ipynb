{
 "cells": [
  {
   "cell_type": "code",
   "execution_count": 1,
   "id": "b06c7fa3-ce63-4a9e-9ae6-46b7641dafd8",
   "metadata": {},
   "outputs": [
    {
     "name": "stdout",
     "output_type": "stream",
     "text": [
      "INFO: Pandarallel will run on 4 workers.\n",
      "INFO: Pandarallel will use standard multiprocessing data transfer (pipe) to transfer data between the main process and workers.\n"
     ]
    }
   ],
   "source": [
    "import pandas as pd\n",
    "import torch\n",
    "import torchtext\n",
    "\n",
    "from pandarallel import pandarallel\n",
    "# Initialization\n",
    "pandarallel.initialize()\n",
    "\n",
    "#string manupulation libs\n",
    "import re\n",
    "import string\n",
    "from string import digits\n",
    "import spacy\n",
    "import torch\n",
    "import torch.nn as nn\n",
    "import torch.optim as optim\n",
    "import numpy as np\n",
    "\n",
    "from ECB_vocab import *\n",
    "from ECB_datasets import *\n",
    "from ECB_dataloader import *\n",
    "from ECB_classifier import *"
   ]
  },
  {
   "cell_type": "code",
   "execution_count": 2,
   "id": "859686b5-2bef-4438-9fe9-35d472af5cce",
   "metadata": {},
   "outputs": [],
   "source": [
    "data = r'data/all_ECB_speeches.csv'"
   ]
  },
  {
   "cell_type": "code",
   "execution_count": 3,
   "id": "c231cc35-d0b1-4ca8-997d-a68d4535e860",
   "metadata": {},
   "outputs": [
    {
     "name": "stdout",
     "output_type": "stream",
     "text": [
      "2526\n"
     ]
    },
    {
     "data": {
      "text/html": [
       "<div>\n",
       "<style scoped>\n",
       "    .dataframe tbody tr th:only-of-type {\n",
       "        vertical-align: middle;\n",
       "    }\n",
       "\n",
       "    .dataframe tbody tr th {\n",
       "        vertical-align: top;\n",
       "    }\n",
       "\n",
       "    .dataframe thead th {\n",
       "        text-align: right;\n",
       "    }\n",
       "</style>\n",
       "<table border=\"1\" class=\"dataframe\">\n",
       "  <thead>\n",
       "    <tr style=\"text-align: right;\">\n",
       "      <th></th>\n",
       "      <th>date</th>\n",
       "      <th>speakers</th>\n",
       "      <th>title</th>\n",
       "      <th>subtitle</th>\n",
       "      <th>contents</th>\n",
       "    </tr>\n",
       "  </thead>\n",
       "  <tbody>\n",
       "    <tr>\n",
       "      <th>0</th>\n",
       "      <td>2021-10-20</td>\n",
       "      <td>Frank Elderson</td>\n",
       "      <td>Overcoming the tragedy of the horizon: requiri...</td>\n",
       "      <td>Keynote speech by Frank Elderson, Member of th...</td>\n",
       "      <td>SPEECH  Overcoming the tragedy of the horiz...</td>\n",
       "    </tr>\n",
       "    <tr>\n",
       "      <th>1</th>\n",
       "      <td>2021-10-19</td>\n",
       "      <td>Fabio Panetta</td>\n",
       "      <td>“Hic sunt leones” – open research questions on...</td>\n",
       "      <td>Speech by Fabio Panetta, Member of the Executi...</td>\n",
       "      <td>SPEECH  “Hic sunt leones” – open research q...</td>\n",
       "    </tr>\n",
       "    <tr>\n",
       "      <th>2</th>\n",
       "      <td>2021-10-19</td>\n",
       "      <td>Frank Elderson</td>\n",
       "      <td>The role of supervisors and central banks in t...</td>\n",
       "      <td>Keynote speech by Frank Elderson, Member of th...</td>\n",
       "      <td>SPEECH  The role of supervisors and central...</td>\n",
       "    </tr>\n",
       "    <tr>\n",
       "      <th>3</th>\n",
       "      <td>2021-10-16</td>\n",
       "      <td>Christine Lagarde</td>\n",
       "      <td>Globalisation after the pandemic</td>\n",
       "      <td>2021 Per Jacobsson Lecture by Christine Lagard...</td>\n",
       "      <td>SPEECH  Globalisation after the pandemic   ...</td>\n",
       "    </tr>\n",
       "    <tr>\n",
       "      <th>4</th>\n",
       "      <td>2021-10-14</td>\n",
       "      <td>Christine Lagarde</td>\n",
       "      <td>IMFC Statement</td>\n",
       "      <td>Statement by Christine Lagarde, President of t...</td>\n",
       "      <td>SPEECH  IMFC Statement    Statement by Chri...</td>\n",
       "    </tr>\n",
       "  </tbody>\n",
       "</table>\n",
       "</div>"
      ],
      "text/plain": [
       "         date           speakers  \\\n",
       "0  2021-10-20     Frank Elderson   \n",
       "1  2021-10-19      Fabio Panetta   \n",
       "2  2021-10-19     Frank Elderson   \n",
       "3  2021-10-16  Christine Lagarde   \n",
       "4  2021-10-14  Christine Lagarde   \n",
       "\n",
       "                                               title  \\\n",
       "0  Overcoming the tragedy of the horizon: requiri...   \n",
       "1  “Hic sunt leones” – open research questions on...   \n",
       "2  The role of supervisors and central banks in t...   \n",
       "3                   Globalisation after the pandemic   \n",
       "4                                    IMFC Statement    \n",
       "\n",
       "                                            subtitle  \\\n",
       "0  Keynote speech by Frank Elderson, Member of th...   \n",
       "1  Speech by Fabio Panetta, Member of the Executi...   \n",
       "2  Keynote speech by Frank Elderson, Member of th...   \n",
       "3  2021 Per Jacobsson Lecture by Christine Lagard...   \n",
       "4  Statement by Christine Lagarde, President of t...   \n",
       "\n",
       "                                            contents  \n",
       "0     SPEECH  Overcoming the tragedy of the horiz...  \n",
       "1     SPEECH  “Hic sunt leones” – open research q...  \n",
       "2     SPEECH  The role of supervisors and central...  \n",
       "3     SPEECH  Globalisation after the pandemic   ...  \n",
       "4     SPEECH  IMFC Statement    Statement by Chri...  "
      ]
     },
     "execution_count": 3,
     "metadata": {},
     "output_type": "execute_result"
    }
   ],
   "source": [
    "df = pd.read_csv(data,sep='|')\n",
    "print(len(df.index))\n",
    "df.head()"
   ]
  },
  {
   "cell_type": "code",
   "execution_count": 4,
   "id": "cae5fafd-dba7-4248-9cbd-59846e9464a4",
   "metadata": {},
   "outputs": [
    {
     "name": "stdout",
     "output_type": "stream",
     "text": [
      "2511\n"
     ]
    }
   ],
   "source": [
    "df = df.loc[(df['speakers'] != 'Willem F. Duisenberg,Eugenio Domingo Solans')&\n",
    "            (df['speakers'] != 'Alexandre Lamfalussy')&\n",
    "            (df['speakers'] != 'Frank Elderson')]\n",
    "print(len(df.index))"
   ]
  },
  {
   "cell_type": "code",
   "execution_count": 5,
   "id": "51d18a08-ce8c-4059-ac76-605ce847646d",
   "metadata": {},
   "outputs": [
    {
     "name": "stdout",
     "output_type": "stream",
     "text": [
      "2477\n"
     ]
    }
   ],
   "source": [
    "targets = list()\n",
    "df['targets'] = ''\n",
    "for i in enumerate(df.speakers.unique().tolist()):\n",
    "    index = df['speakers'].isin([i[1]])\n",
    "    df.loc[index,'targets'] = i[0]\n",
    "\n",
    "df = df[['targets','contents']]\n",
    "\n",
    "df = df.dropna().drop_duplicates()\n",
    "print(len(df.index))"
   ]
  },
  {
   "cell_type": "code",
   "execution_count": 6,
   "id": "27b3e2bd-7511-48c2-9d06-66e9fe7bfdcc",
   "metadata": {},
   "outputs": [],
   "source": [
    "df.contents = df.contents.parallel_apply(lambda x: re.sub(\"'\", '',x).lower())\n",
    "#remove special chars\n",
    "exclude = set(string.punctuation)#set of all special chars\n",
    "#remove all the special chars\n",
    "df.contents = df.contents.parallel_apply(lambda x: ''.join(ch for ch in x if ch not in exclude))"
   ]
  },
  {
   "cell_type": "code",
   "execution_count": 7,
   "id": "cc7e23e1-dd9c-45cc-ac25-7d2323996a8c",
   "metadata": {},
   "outputs": [],
   "source": [
    "remove_digits = str.maketrans('','',digits)\n",
    "df.contents  = df.contents.parallel_apply(lambda x: x.translate(remove_digits))\n",
    "\n",
    "# Remove extra spaces\n",
    "df.contents =df.contents .parallel_apply(lambda x: x.strip())\n",
    "df.contents =df.contents .parallel_apply(lambda x: re.sub(\" +\", \" \", x))"
   ]
  },
  {
   "cell_type": "code",
   "execution_count": 8,
   "id": "23f52062-46b7-4ac6-a050-82c9413cc420",
   "metadata": {},
   "outputs": [
    {
     "name": "stdout",
     "output_type": "stream",
     "text": [
      "len of train:  2230\n",
      "len of val:  247\n"
     ]
    }
   ],
   "source": [
    "#######################################################\n",
    "#               Create Train and Valid sets\n",
    "#######################################################\n",
    "\n",
    "val_frac = 0.1 #precentage data in val\n",
    "val_split_idx = int(len(df)*val_frac) #index on which to split\n",
    "data_idx = list(range(len(df))) #create a list of ints till len of data\n",
    "np.random.shuffle(data_idx)\n",
    "\n",
    "#get indexes for validation and train\n",
    "val_idx, train_idx = data_idx[:val_split_idx], data_idx[val_split_idx:]\n",
    "print('len of train: ', len(train_idx))\n",
    "print('len of val: ', len(val_idx))\n",
    "\n",
    "#create the sets\n",
    "train = df.iloc[train_idx].reset_index().drop('index',axis=1)\n",
    "val = df.iloc[val_idx].reset_index().drop('index',axis=1)"
   ]
  },
  {
   "cell_type": "code",
   "execution_count": 9,
   "id": "f568e3d0-7eff-4772-9d82-da8445da69d2",
   "metadata": {},
   "outputs": [
    {
     "data": {
      "text/html": [
       "<div>\n",
       "<style scoped>\n",
       "    .dataframe tbody tr th:only-of-type {\n",
       "        vertical-align: middle;\n",
       "    }\n",
       "\n",
       "    .dataframe tbody tr th {\n",
       "        vertical-align: top;\n",
       "    }\n",
       "\n",
       "    .dataframe thead th {\n",
       "        text-align: right;\n",
       "    }\n",
       "</style>\n",
       "<table border=\"1\" class=\"dataframe\">\n",
       "  <thead>\n",
       "    <tr style=\"text-align: right;\">\n",
       "      <th></th>\n",
       "      <th>targets</th>\n",
       "      <th>contents</th>\n",
       "    </tr>\n",
       "  </thead>\n",
       "  <tbody>\n",
       "    <tr>\n",
       "      <th>0</th>\n",
       "      <td>15</td>\n",
       "      <td>does the euro area need an economic government...</td>\n",
       "    </tr>\n",
       "    <tr>\n",
       "      <th>1</th>\n",
       "      <td>12</td>\n",
       "      <td>reformen in der eurozone rede von jörg asmusse...</td>\n",
       "    </tr>\n",
       "    <tr>\n",
       "      <th>2</th>\n",
       "      <td>19</td>\n",
       "      <td>the euro area first experience and perspective...</td>\n",
       "    </tr>\n",
       "    <tr>\n",
       "      <th>3</th>\n",
       "      <td>9</td>\n",
       "      <td>hearing at the committee on economic and monet...</td>\n",
       "    </tr>\n",
       "    <tr>\n",
       "      <th>4</th>\n",
       "      <td>7</td>\n",
       "      <td>the known unknowns of financial regulation pan...</td>\n",
       "    </tr>\n",
       "    <tr>\n",
       "      <th>...</th>\n",
       "      <td>...</td>\n",
       "      <td>...</td>\n",
       "    </tr>\n",
       "    <tr>\n",
       "      <th>2225</th>\n",
       "      <td>7</td>\n",
       "      <td>la situation économique dans la zone euro et l...</td>\n",
       "    </tr>\n",
       "    <tr>\n",
       "      <th>2226</th>\n",
       "      <td>17</td>\n",
       "      <td>wirtschafts und finanzpolitische herausforderu...</td>\n",
       "    </tr>\n",
       "    <tr>\n",
       "      <th>2227</th>\n",
       "      <td>15</td>\n",
       "      <td>financial globalisation economic policies in a...</td>\n",
       "    </tr>\n",
       "    <tr>\n",
       "      <th>2228</th>\n",
       "      <td>11</td>\n",
       "      <td>presentation of the ecb annual report to the c...</td>\n",
       "    </tr>\n",
       "    <tr>\n",
       "      <th>2229</th>\n",
       "      <td>7</td>\n",
       "      <td>structural reforms on the way to a complete ec...</td>\n",
       "    </tr>\n",
       "  </tbody>\n",
       "</table>\n",
       "<p>2230 rows × 2 columns</p>\n",
       "</div>"
      ],
      "text/plain": [
       "     targets                                           contents\n",
       "0         15  does the euro area need an economic government...\n",
       "1         12  reformen in der eurozone rede von jörg asmusse...\n",
       "2         19  the euro area first experience and perspective...\n",
       "3          9  hearing at the committee on economic and monet...\n",
       "4          7  the known unknowns of financial regulation pan...\n",
       "...      ...                                                ...\n",
       "2225       7  la situation économique dans la zone euro et l...\n",
       "2226      17  wirtschafts und finanzpolitische herausforderu...\n",
       "2227      15  financial globalisation economic policies in a...\n",
       "2228      11  presentation of the ecb annual report to the c...\n",
       "2229       7  structural reforms on the way to a complete ec...\n",
       "\n",
       "[2230 rows x 2 columns]"
      ]
     },
     "execution_count": 9,
     "metadata": {},
     "output_type": "execute_result"
    }
   ],
   "source": [
    "train"
   ]
  },
  {
   "cell_type": "code",
   "execution_count": 10,
   "id": "24bd081b-16f0-45b2-8fcb-54916cb650ec",
   "metadata": {},
   "outputs": [
    {
     "name": "stdout",
     "output_type": "stream",
     "text": [
      "targets                                                    12\n",
      "contents    reformen in der eurozone rede von jörg asmusse...\n",
      "Name: 1, dtype: object\n"
     ]
    },
    {
     "data": {
      "text/plain": [
       "(12, tensor([   1, 3297,    8,  ..., 2190,    3,    2]))"
      ]
     },
     "execution_count": 10,
     "metadata": {},
     "output_type": "execute_result"
    }
   ],
   "source": [
    "train_dataset = Train_Dataset(train, 'contents', 'targets')\n",
    "print(train.loc[1])\n",
    "train_dataset[1]"
   ]
  },
  {
   "cell_type": "code",
   "execution_count": 11,
   "id": "b9c2d541-aa90-4922-9574-c34a86a2d7fd",
   "metadata": {
    "tags": []
   },
   "outputs": [
    {
     "name": "stdout",
     "output_type": "stream",
     "text": [
      "source: \n",
      " tensor([[    1,     1,     1,  ...,     1,     1,     1],\n",
      "        [ 8236,   163,   413,  ...,   269,    68,   269],\n",
      "        [    5,    52,   860,  ..., 13984,   525,   682],\n",
      "        ...,\n",
      "        [    0,     0,     0,  ...,     0,     0,     0],\n",
      "        [    0,     0,     0,  ...,     0,     0,     0],\n",
      "        [    0,     0,     0,  ...,     0,     0,     0]])\n",
      "source shape:  torch.Size([10127, 32])\n",
      "target shape:  32\n"
     ]
    },
    {
     "name": "stderr",
     "output_type": "stream",
     "text": [
      "/Users/jbrettl/Desktop/Pytorch_nlp/ECB_dataloader.py:30: UserWarning: To copy construct from a tensor, it is recommended to use sourceTensor.clone().detach() or sourceTensor.clone().detach().requires_grad_(True), rather than torch.tensor(sourceTensor).\n",
      "  return torch.tensor(target), torch.tensor(source)\n"
     ]
    }
   ],
   "source": [
    "train_loader = get_train_loader(train_dataset, 32)\n",
    "source = next(iter(train_loader))[1]\n",
    "target = next(iter(train_loader))[0]\n",
    "\n",
    "print('source: \\n', source)\n",
    "\n",
    "print('source shape: ',source.shape)\n",
    "print('target shape: ', len(target))"
   ]
  },
  {
   "cell_type": "code",
   "execution_count": 12,
   "id": "cd9cfacc-0735-401a-9d48-1d03653da5a2",
   "metadata": {},
   "outputs": [
    {
     "name": "stdout",
     "output_type": "stream",
     "text": [
      "25\n"
     ]
    }
   ],
   "source": [
    "sentence_list=train.contents.tolist()\n",
    "#create a vocab class with freq_threshold=0 and max_size=100\n",
    "voc = Vocabulary(2, 100000)\n",
    "#build vocab\n",
    "voc.build_vocabulary(sentence_list)\n",
    "vocab_size = len(voc)\n",
    "num_classes = len(train.targets.unique()) + 1\n",
    "print(num_classes)"
   ]
  },
  {
   "cell_type": "code",
   "execution_count": 13,
   "id": "81005383-d4bc-4c63-a64f-8f6bbda51712",
   "metadata": {},
   "outputs": [
    {
     "data": {
      "text/plain": [
       "array([15, 12, 19, 9, 7, 11, 16, 10, 6, 22, 13, 14, 18, 3, 20, 8, 0, 1,\n",
       "       23, 17, 21, 4, 2, 24], dtype=object)"
      ]
     },
     "execution_count": 13,
     "metadata": {},
     "output_type": "execute_result"
    }
   ],
   "source": [
    "train.targets.unique()"
   ]
  },
  {
   "cell_type": "code",
   "execution_count": 14,
   "id": "69964656-a2fb-4989-bc74-5943d928be4e",
   "metadata": {},
   "outputs": [],
   "source": [
    "device = 'cpu'"
   ]
  },
  {
   "cell_type": "code",
   "execution_count": 16,
   "id": "1fe6e5d5-60c3-4e06-bdfc-9eb95f6187f5",
   "metadata": {},
   "outputs": [],
   "source": [
    "model = LSTMClassifier(vocab_size ,64,32,num_classes).to(device)"
   ]
  },
  {
   "cell_type": "code",
   "execution_count": 17,
   "id": "c3638320-5634-4f57-8800-6302c3e99658",
   "metadata": {},
   "outputs": [],
   "source": [
    "def train_epoch(net,dataloader,lr=0.01,optimizer=None,loss_fn = torch.nn.CrossEntropyLoss(),epoch_size=None, report_freq=200,epochs=100):\n",
    "    optimizer = optimizer or torch.optim.Adam(net.parameters(),lr=lr)\n",
    "    loss_fn = loss_fn.to(device)\n",
    "    net.train()\n",
    "    total_loss,acc,count,i = 0,0,0,0\n",
    "    for epoch in range(epochs):\n",
    "        for labels,features in dataloader:\n",
    "            features = torch.transpose(features, 0, 1)\n",
    "            #print(labels,features)\n",
    "            #print(labels.shape,features.shape)\n",
    "            optimizer.zero_grad()\n",
    "            features, labels = features.to(device), labels.to(device)\n",
    "            out = net(features)\n",
    "            loss = loss_fn(out,labels) #cross_entropy(out,labels)\n",
    "            loss.backward()\n",
    "            optimizer.step()\n",
    "            total_loss+=loss\n",
    "            _,predicted = torch.max(out,1)\n",
    "            acc+=(predicted==labels).sum()\n",
    "            count+=len(labels)\n",
    "            i+=1\n",
    "        print(f\"Epoch:{epoch}, acc={acc.item()/count}, loss={total_loss}\")\n",
    "    return total_loss.item()/count, acc.item()/count"
   ]
  },
  {
   "cell_type": "code",
   "execution_count": null,
   "id": "b31de1e6-d2ce-43a8-9a05-098fd4cf5d0a",
   "metadata": {
    "tags": []
   },
   "outputs": [],
   "source": [
    "train_epoch(model,train_loader, lr=0.001)"
   ]
  },
  {
   "cell_type": "code",
   "execution_count": null,
   "id": "1bdee235-fe38-4622-9e5b-87ef8f87059b",
   "metadata": {},
   "outputs": [],
   "source": []
  }
 ],
 "metadata": {
  "kernelspec": {
   "display_name": "Python 3 (ipykernel)",
   "language": "python",
   "name": "python3"
  },
  "language_info": {
   "codemirror_mode": {
    "name": "ipython",
    "version": 3
   },
   "file_extension": ".py",
   "mimetype": "text/x-python",
   "name": "python",
   "nbconvert_exporter": "python",
   "pygments_lexer": "ipython3",
   "version": "3.9.5"
  }
 },
 "nbformat": 4,
 "nbformat_minor": 5
}
