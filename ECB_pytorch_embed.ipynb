{
 "cells": [
  {
   "cell_type": "code",
   "execution_count": 1,
   "id": "b06c7fa3-ce63-4a9e-9ae6-46b7641dafd8",
   "metadata": {},
   "outputs": [
    {
     "name": "stdout",
     "output_type": "stream",
     "text": [
      "INFO: Pandarallel will run on 4 workers.\n",
      "INFO: Pandarallel will use standard multiprocessing data transfer (pipe) to transfer data between the main process and workers.\n"
     ]
    }
   ],
   "source": [
    "import pandas as pd\n",
    "import torch\n",
    "import torchtext\n",
    "\n",
    "from pandarallel import pandarallel\n",
    "# Initialization\n",
    "pandarallel.initialize()\n",
    "\n",
    "#string manupulation libs\n",
    "import re\n",
    "import string\n",
    "from string import digits\n",
    "import spacy\n",
    "import torch\n",
    "import torch.nn as nn\n",
    "import torch.optim as optim\n",
    "import numpy as np\n",
    "\n",
    "from ECB_vocab import *\n",
    "from ECB_datasets import *\n",
    "from ECB_dataloader import *\n",
    "from ECB_classifier import *"
   ]
  },
  {
   "cell_type": "code",
   "execution_count": 2,
   "id": "859686b5-2bef-4438-9fe9-35d472af5cce",
   "metadata": {},
   "outputs": [],
   "source": [
    "data = r'data/all_ECB_speeches.csv'"
   ]
  },
  {
   "cell_type": "code",
   "execution_count": 3,
   "id": "c231cc35-d0b1-4ca8-997d-a68d4535e860",
   "metadata": {},
   "outputs": [
    {
     "name": "stdout",
     "output_type": "stream",
     "text": [
      "2526\n"
     ]
    },
    {
     "data": {
      "text/html": [
       "<div>\n",
       "<style scoped>\n",
       "    .dataframe tbody tr th:only-of-type {\n",
       "        vertical-align: middle;\n",
       "    }\n",
       "\n",
       "    .dataframe tbody tr th {\n",
       "        vertical-align: top;\n",
       "    }\n",
       "\n",
       "    .dataframe thead th {\n",
       "        text-align: right;\n",
       "    }\n",
       "</style>\n",
       "<table border=\"1\" class=\"dataframe\">\n",
       "  <thead>\n",
       "    <tr style=\"text-align: right;\">\n",
       "      <th></th>\n",
       "      <th>date</th>\n",
       "      <th>speakers</th>\n",
       "      <th>title</th>\n",
       "      <th>subtitle</th>\n",
       "      <th>contents</th>\n",
       "    </tr>\n",
       "  </thead>\n",
       "  <tbody>\n",
       "    <tr>\n",
       "      <th>0</th>\n",
       "      <td>2021-10-20</td>\n",
       "      <td>Frank Elderson</td>\n",
       "      <td>Overcoming the tragedy of the horizon: requiri...</td>\n",
       "      <td>Keynote speech by Frank Elderson, Member of th...</td>\n",
       "      <td>SPEECH  Overcoming the tragedy of the horiz...</td>\n",
       "    </tr>\n",
       "    <tr>\n",
       "      <th>1</th>\n",
       "      <td>2021-10-19</td>\n",
       "      <td>Fabio Panetta</td>\n",
       "      <td>“Hic sunt leones” – open research questions on...</td>\n",
       "      <td>Speech by Fabio Panetta, Member of the Executi...</td>\n",
       "      <td>SPEECH  “Hic sunt leones” – open research q...</td>\n",
       "    </tr>\n",
       "    <tr>\n",
       "      <th>2</th>\n",
       "      <td>2021-10-19</td>\n",
       "      <td>Frank Elderson</td>\n",
       "      <td>The role of supervisors and central banks in t...</td>\n",
       "      <td>Keynote speech by Frank Elderson, Member of th...</td>\n",
       "      <td>SPEECH  The role of supervisors and central...</td>\n",
       "    </tr>\n",
       "    <tr>\n",
       "      <th>3</th>\n",
       "      <td>2021-10-16</td>\n",
       "      <td>Christine Lagarde</td>\n",
       "      <td>Globalisation after the pandemic</td>\n",
       "      <td>2021 Per Jacobsson Lecture by Christine Lagard...</td>\n",
       "      <td>SPEECH  Globalisation after the pandemic   ...</td>\n",
       "    </tr>\n",
       "    <tr>\n",
       "      <th>4</th>\n",
       "      <td>2021-10-14</td>\n",
       "      <td>Christine Lagarde</td>\n",
       "      <td>IMFC Statement</td>\n",
       "      <td>Statement by Christine Lagarde, President of t...</td>\n",
       "      <td>SPEECH  IMFC Statement    Statement by Chri...</td>\n",
       "    </tr>\n",
       "  </tbody>\n",
       "</table>\n",
       "</div>"
      ],
      "text/plain": [
       "         date           speakers  \\\n",
       "0  2021-10-20     Frank Elderson   \n",
       "1  2021-10-19      Fabio Panetta   \n",
       "2  2021-10-19     Frank Elderson   \n",
       "3  2021-10-16  Christine Lagarde   \n",
       "4  2021-10-14  Christine Lagarde   \n",
       "\n",
       "                                               title  \\\n",
       "0  Overcoming the tragedy of the horizon: requiri...   \n",
       "1  “Hic sunt leones” – open research questions on...   \n",
       "2  The role of supervisors and central banks in t...   \n",
       "3                   Globalisation after the pandemic   \n",
       "4                                    IMFC Statement    \n",
       "\n",
       "                                            subtitle  \\\n",
       "0  Keynote speech by Frank Elderson, Member of th...   \n",
       "1  Speech by Fabio Panetta, Member of the Executi...   \n",
       "2  Keynote speech by Frank Elderson, Member of th...   \n",
       "3  2021 Per Jacobsson Lecture by Christine Lagard...   \n",
       "4  Statement by Christine Lagarde, President of t...   \n",
       "\n",
       "                                            contents  \n",
       "0     SPEECH  Overcoming the tragedy of the horiz...  \n",
       "1     SPEECH  “Hic sunt leones” – open research q...  \n",
       "2     SPEECH  The role of supervisors and central...  \n",
       "3     SPEECH  Globalisation after the pandemic   ...  \n",
       "4     SPEECH  IMFC Statement    Statement by Chri...  "
      ]
     },
     "execution_count": 3,
     "metadata": {},
     "output_type": "execute_result"
    }
   ],
   "source": [
    "df = pd.read_csv(data,sep='|')\n",
    "print(len(df.index))\n",
    "df.head()"
   ]
  },
  {
   "cell_type": "code",
   "execution_count": 4,
   "id": "cae5fafd-dba7-4248-9cbd-59846e9464a4",
   "metadata": {},
   "outputs": [
    {
     "name": "stdout",
     "output_type": "stream",
     "text": [
      "2511\n"
     ]
    }
   ],
   "source": [
    "df = df.loc[(df['speakers'] != 'Willem F. Duisenberg,Eugenio Domingo Solans')&\n",
    "            (df['speakers'] != 'Alexandre Lamfalussy')&\n",
    "            (df['speakers'] != 'Frank Elderson')]\n",
    "print(len(df.index))"
   ]
  },
  {
   "cell_type": "code",
   "execution_count": 5,
   "id": "51d18a08-ce8c-4059-ac76-605ce847646d",
   "metadata": {},
   "outputs": [
    {
     "name": "stdout",
     "output_type": "stream",
     "text": [
      "2477\n"
     ]
    }
   ],
   "source": [
    "targets = list()\n",
    "df['targets'] = ''\n",
    "for i in enumerate(df.speakers.unique().tolist()):\n",
    "    index = df['speakers'].isin([i[1]])\n",
    "    df.loc[index,'targets'] = i[0]\n",
    "\n",
    "df = df[['targets','contents']]\n",
    "\n",
    "df = df.dropna().drop_duplicates()\n",
    "print(len(df.index))"
   ]
  },
  {
   "cell_type": "code",
   "execution_count": 6,
   "id": "27b3e2bd-7511-48c2-9d06-66e9fe7bfdcc",
   "metadata": {},
   "outputs": [],
   "source": [
    "df.contents = df.contents.parallel_apply(lambda x: re.sub(\"'\", '',x).lower())\n",
    "#remove special chars\n",
    "exclude = set(string.punctuation)#set of all special chars\n",
    "#remove all the special chars\n",
    "df.contents = df.contents.parallel_apply(lambda x: ''.join(ch for ch in x if ch not in exclude))"
   ]
  },
  {
   "cell_type": "code",
   "execution_count": 7,
   "id": "cc7e23e1-dd9c-45cc-ac25-7d2323996a8c",
   "metadata": {},
   "outputs": [],
   "source": [
    "remove_digits = str.maketrans('','',digits)\n",
    "df.contents  = df.contents.parallel_apply(lambda x: x.translate(remove_digits))\n",
    "\n",
    "# Remove extra spaces\n",
    "df.contents =df.contents .parallel_apply(lambda x: x.strip())\n",
    "df.contents =df.contents .parallel_apply(lambda x: re.sub(\" +\", \" \", x))"
   ]
  },
  {
   "cell_type": "code",
   "execution_count": 8,
   "id": "23f52062-46b7-4ac6-a050-82c9413cc420",
   "metadata": {},
   "outputs": [
    {
     "name": "stdout",
     "output_type": "stream",
     "text": [
      "len of train:  2230\n",
      "len of val:  247\n"
     ]
    }
   ],
   "source": [
    "#######################################################\n",
    "#               Create Train and Valid sets\n",
    "#######################################################\n",
    "\n",
    "val_frac = 0.1 #precentage data in val\n",
    "val_split_idx = int(len(df)*val_frac) #index on which to split\n",
    "data_idx = list(range(len(df))) #create a list of ints till len of data\n",
    "np.random.shuffle(data_idx)\n",
    "\n",
    "#get indexes for validation and train\n",
    "val_idx, train_idx = data_idx[:val_split_idx], data_idx[val_split_idx:]\n",
    "print('len of train: ', len(train_idx))\n",
    "print('len of val: ', len(val_idx))\n",
    "\n",
    "#create the sets\n",
    "train = df.iloc[train_idx].reset_index().drop('index',axis=1)\n",
    "val = df.iloc[val_idx].reset_index().drop('index',axis=1)"
   ]
  },
  {
   "cell_type": "code",
   "execution_count": 9,
   "id": "f568e3d0-7eff-4772-9d82-da8445da69d2",
   "metadata": {},
   "outputs": [
    {
     "data": {
      "text/html": [
       "<div>\n",
       "<style scoped>\n",
       "    .dataframe tbody tr th:only-of-type {\n",
       "        vertical-align: middle;\n",
       "    }\n",
       "\n",
       "    .dataframe tbody tr th {\n",
       "        vertical-align: top;\n",
       "    }\n",
       "\n",
       "    .dataframe thead th {\n",
       "        text-align: right;\n",
       "    }\n",
       "</style>\n",
       "<table border=\"1\" class=\"dataframe\">\n",
       "  <thead>\n",
       "    <tr style=\"text-align: right;\">\n",
       "      <th></th>\n",
       "      <th>targets</th>\n",
       "      <th>contents</th>\n",
       "    </tr>\n",
       "  </thead>\n",
       "  <tbody>\n",
       "    <tr>\n",
       "      <th>0</th>\n",
       "      <td>1</td>\n",
       "      <td>laudatory speech laudatory speech by christine...</td>\n",
       "    </tr>\n",
       "    <tr>\n",
       "      <th>1</th>\n",
       "      <td>19</td>\n",
       "      <td>topic of the year professor otmar issing mitgl...</td>\n",
       "    </tr>\n",
       "    <tr>\n",
       "      <th>2</th>\n",
       "      <td>16</td>\n",
       "      <td>remise du prix francoallemand de la culture mo...</td>\n",
       "    </tr>\n",
       "    <tr>\n",
       "      <th>3</th>\n",
       "      <td>9</td>\n",
       "      <td>euro area economic outlook the ecb’s monetary ...</td>\n",
       "    </tr>\n",
       "    <tr>\n",
       "      <th>4</th>\n",
       "      <td>13</td>\n",
       "      <td>la situación actual de la economía europea dis...</td>\n",
       "    </tr>\n",
       "    <tr>\n",
       "      <th>...</th>\n",
       "      <td>...</td>\n",
       "      <td>...</td>\n",
       "    </tr>\n",
       "    <tr>\n",
       "      <th>2225</th>\n",
       "      <td>19</td>\n",
       "      <td>der euro – eine stabile währung für europa red...</td>\n",
       "    </tr>\n",
       "    <tr>\n",
       "      <th>2226</th>\n",
       "      <td>6</td>\n",
       "      <td>remarks at the ‘challenges in understanding th...</td>\n",
       "    </tr>\n",
       "    <tr>\n",
       "      <th>2227</th>\n",
       "      <td>11</td>\n",
       "      <td>implications of the ssm on the esfs speech by ...</td>\n",
       "    </tr>\n",
       "    <tr>\n",
       "      <th>2228</th>\n",
       "      <td>16</td>\n",
       "      <td>monetary policy and private expectations zolot...</td>\n",
       "    </tr>\n",
       "    <tr>\n",
       "      <th>2229</th>\n",
       "      <td>18</td>\n",
       "      <td>education financial markets and economic growt...</td>\n",
       "    </tr>\n",
       "  </tbody>\n",
       "</table>\n",
       "<p>2230 rows × 2 columns</p>\n",
       "</div>"
      ],
      "text/plain": [
       "     targets                                           contents\n",
       "0          1  laudatory speech laudatory speech by christine...\n",
       "1         19  topic of the year professor otmar issing mitgl...\n",
       "2         16  remise du prix francoallemand de la culture mo...\n",
       "3          9  euro area economic outlook the ecb’s monetary ...\n",
       "4         13  la situación actual de la economía europea dis...\n",
       "...      ...                                                ...\n",
       "2225      19  der euro – eine stabile währung für europa red...\n",
       "2226       6  remarks at the ‘challenges in understanding th...\n",
       "2227      11  implications of the ssm on the esfs speech by ...\n",
       "2228      16  monetary policy and private expectations zolot...\n",
       "2229      18  education financial markets and economic growt...\n",
       "\n",
       "[2230 rows x 2 columns]"
      ]
     },
     "execution_count": 9,
     "metadata": {},
     "output_type": "execute_result"
    }
   ],
   "source": [
    "train"
   ]
  },
  {
   "cell_type": "code",
   "execution_count": 10,
   "id": "24bd081b-16f0-45b2-8fcb-54916cb650ec",
   "metadata": {},
   "outputs": [
    {
     "name": "stdout",
     "output_type": "stream",
     "text": [
      "targets                                                    19\n",
      "contents    topic of the year professor otmar issing mitgl...\n",
      "Name: 1, dtype: object\n"
     ]
    },
    {
     "data": {
      "text/plain": [
       "(19, tensor([   1, 1411,    5,  ..., 2470, 4480,    2]))"
      ]
     },
     "execution_count": 10,
     "metadata": {},
     "output_type": "execute_result"
    }
   ],
   "source": [
    "train_dataset = Train_Dataset(train, 'contents', 'targets')\n",
    "print(train.loc[1])\n",
    "train_dataset[1]"
   ]
  },
  {
   "cell_type": "code",
   "execution_count": 11,
   "id": "b9c2d541-aa90-4922-9574-c34a86a2d7fd",
   "metadata": {
    "tags": []
   },
   "outputs": [
    {
     "name": "stdout",
     "output_type": "stream",
     "text": [
      "source: \n",
      " tensor([[    1,     1,     1,  ...,     1,     1,     1],\n",
      "        [  270,  3124, 25023,  ...,     4,  1235,    80],\n",
      "        [14202,    13,     5,  ...,   483,  1184,  1212],\n",
      "        ...,\n",
      "        [    0,     0,     4,  ...,     0,     0,     0],\n",
      "        [    0,     0,    70,  ...,     0,     0,     0],\n",
      "        [    0,     0,     2,  ...,     0,     0,     0]])\n",
      "source shape:  torch.Size([6862, 32])\n",
      "target shape:  32\n"
     ]
    },
    {
     "name": "stderr",
     "output_type": "stream",
     "text": [
      "/Users/jbrettl/Desktop/Pytorch_nlp/ECB_dataloader.py:30: UserWarning: To copy construct from a tensor, it is recommended to use sourceTensor.clone().detach() or sourceTensor.clone().detach().requires_grad_(True), rather than torch.tensor(sourceTensor).\n",
      "  return torch.tensor(target), torch.tensor(source)\n"
     ]
    }
   ],
   "source": [
    "train_loader = get_train_loader(train_dataset, 32)\n",
    "source = next(iter(train_loader))[1]\n",
    "target = next(iter(train_loader))[0]\n",
    "\n",
    "print('source: \\n', source)\n",
    "\n",
    "print('source shape: ',source.shape)\n",
    "print('target shape: ', len(target))"
   ]
  },
  {
   "cell_type": "code",
   "execution_count": 12,
   "id": "cd9cfacc-0735-401a-9d48-1d03653da5a2",
   "metadata": {},
   "outputs": [
    {
     "name": "stdout",
     "output_type": "stream",
     "text": [
      "25\n"
     ]
    }
   ],
   "source": [
    "sentence_list=train.contents.tolist()\n",
    "#create a vocab class with freq_threshold=0 and max_size=100\n",
    "voc = Vocabulary(2, 100000)\n",
    "#build vocab\n",
    "voc.build_vocabulary(sentence_list)\n",
    "vocab_size = len(voc)\n",
    "num_classes = len(train.targets.unique()) + 1\n",
    "print(num_classes)"
   ]
  },
  {
   "cell_type": "code",
   "execution_count": 13,
   "id": "81005383-d4bc-4c63-a64f-8f6bbda51712",
   "metadata": {},
   "outputs": [
    {
     "data": {
      "text/plain": [
       "array([1, 19, 16, 9, 13, 12, 14, 20, 15, 11, 17, 7, 22, 6, 8, 0, 4, 24,\n",
       "       23, 21, 18, 3, 10, 2], dtype=object)"
      ]
     },
     "execution_count": 13,
     "metadata": {},
     "output_type": "execute_result"
    }
   ],
   "source": [
    "train.targets.unique()"
   ]
  },
  {
   "cell_type": "code",
   "execution_count": 14,
   "id": "69964656-a2fb-4989-bc74-5943d928be4e",
   "metadata": {},
   "outputs": [],
   "source": [
    "device = 'cpu'"
   ]
  },
  {
   "cell_type": "code",
   "execution_count": 15,
   "id": "1fe6e5d5-60c3-4e06-bdfc-9eb95f6187f5",
   "metadata": {},
   "outputs": [],
   "source": [
    "model = EmbedClassifier(vocab_size ,64,num_classes).to(device)"
   ]
  },
  {
   "cell_type": "code",
   "execution_count": 16,
   "id": "c3638320-5634-4f57-8800-6302c3e99658",
   "metadata": {},
   "outputs": [],
   "source": [
    "def train_epoch(net,dataloader,lr=0.01,optimizer=None,loss_fn = torch.nn.CrossEntropyLoss(),epoch_size=None, report_freq=200,epochs=100):\n",
    "    optimizer = optimizer or torch.optim.Adam(net.parameters(),lr=lr)\n",
    "    loss_fn = loss_fn.to(device)\n",
    "    net.train()\n",
    "    total_loss,acc,count,i = 0,0,0,0\n",
    "    for epoch in range(epochs):\n",
    "        for labels,features in dataloader:\n",
    "            features = torch.transpose(features, 0, 1)\n",
    "            #print(labels,features)\n",
    "            #print(labels.shape,features.shape)\n",
    "            optimizer.zero_grad()\n",
    "            features, labels = features.to(device), labels.to(device)\n",
    "            out = net(features)\n",
    "            loss = loss_fn(out,labels) #cross_entropy(out,labels)\n",
    "            loss.backward()\n",
    "            optimizer.step()\n",
    "            total_loss+=loss\n",
    "            _,predicted = torch.max(out,1)\n",
    "            acc+=(predicted==labels).sum()\n",
    "            count+=len(labels)\n",
    "            i+=1\n",
    "        print(f\"Epoch:{epoch}, acc={acc.item()/count}, loss={total_loss}\")\n",
    "    return total_loss.item()/count, acc.item()/count"
   ]
  },
  {
   "cell_type": "code",
   "execution_count": 17,
   "id": "b31de1e6-d2ce-43a8-9a05-098fd4cf5d0a",
   "metadata": {
    "tags": []
   },
   "outputs": [
    {
     "name": "stdout",
     "output_type": "stream",
     "text": [
      "Epoch:0, acc=0.10089686098654709, loss=214.8420867919922\n",
      "Epoch:1, acc=0.11614349775784753, loss=423.82000732421875\n",
      "Epoch:2, acc=0.12257100149476831, loss=631.9033813476562\n",
      "Epoch:3, acc=0.12556053811659193, loss=839.083984375\n",
      "Epoch:4, acc=0.12771300448430492, loss=1044.8726806640625\n",
      "Epoch:5, acc=0.12937219730941704, loss=1249.8751220703125\n",
      "Epoch:6, acc=0.13087764253683537, loss=1453.5308837890625\n",
      "Epoch:7, acc=0.1320627802690583, loss=1656.346923828125\n",
      "Epoch:8, acc=0.1334828101644245, loss=1858.5841064453125\n",
      "Epoch:9, acc=0.13452914798206278, loss=2059.676513671875\n",
      "Epoch:10, acc=0.13562984101100692, loss=2259.665283203125\n",
      "Epoch:11, acc=0.13643497757847534, loss=2458.6142578125\n",
      "Epoch:12, acc=0.1374956881683339, loss=2656.971923828125\n",
      "Epoch:13, acc=0.13869314541960281, loss=2854.116455078125\n",
      "Epoch:14, acc=0.14002989536621824, loss=3050.561767578125\n",
      "Epoch:15, acc=0.14111547085201795, loss=3246.419921875\n",
      "Epoch:16, acc=0.14220522289633342, loss=3440.5517578125\n",
      "Epoch:17, acc=0.14342301943198804, loss=3634.001708984375\n",
      "Epoch:18, acc=0.14453622846353553, loss=3826.243408203125\n",
      "Epoch:19, acc=0.14556053811659192, loss=4017.50537109375\n",
      "Epoch:20, acc=0.14761904761904762, loss=4207.314453125\n",
      "Epoch:21, acc=0.14881777415409703, loss=4395.56396484375\n",
      "Epoch:22, acc=0.15043868200428934, loss=4582.18603515625\n",
      "Epoch:23, acc=0.15244768310911808, loss=4767.85302734375\n",
      "Epoch:24, acc=0.15486995515695068, loss=4952.35693359375\n",
      "Epoch:25, acc=0.15734736115902034, loss=5135.5888671875\n",
      "Epoch:26, acc=0.16017272878259425, loss=5316.85546875\n",
      "Epoch:27, acc=0.1638532991672005, loss=5496.72021484375\n",
      "Epoch:28, acc=0.16720272150920057, loss=5674.9580078125\n",
      "Epoch:29, acc=0.1704185351270553, loss=5851.22119140625\n",
      "Epoch:30, acc=0.17417908288731376, loss=6026.76123046875\n",
      "Epoch:31, acc=0.1773542600896861, loss=6201.1005859375\n",
      "Epoch:32, acc=0.18122027449381709, loss=6373.228515625\n",
      "Epoch:33, acc=0.18526773938274863, loss=6543.45947265625\n",
      "Epoch:34, acc=0.18887892376681614, loss=6712.80517578125\n",
      "Epoch:35, acc=0.19312406576980568, loss=6880.7734375\n",
      "Epoch:36, acc=0.1968609865470852, loss=7045.93896484375\n",
      "Epoch:37, acc=0.20071984894972858, loss=7210.09326171875\n",
      "Epoch:38, acc=0.20451879958606417, loss=7372.34765625\n",
      "Epoch:39, acc=0.20844170403587445, loss=7532.833984375\n",
      "Epoch:40, acc=0.21223887126763644, loss=7691.7314453125\n",
      "Epoch:41, acc=0.2161221439248345, loss=7849.61376953125\n",
      "Epoch:42, acc=0.21975179893628116, loss=8006.009765625\n",
      "Epoch:43, acc=0.22336934366082348, loss=8161.11328125\n",
      "Epoch:44, acc=0.22698555057299452, loss=8313.70703125\n",
      "Epoch:45, acc=0.23073698576720608, loss=8465.0048828125\n",
      "Epoch:46, acc=0.23437649079286327, loss=8615.0703125\n",
      "Epoch:47, acc=0.23809790732436473, loss=8763.6201171875\n",
      "Epoch:48, acc=0.24174979408803882, loss=8911.1533203125\n",
      "Epoch:49, acc=0.24517488789237668, loss=9057.4033203125\n",
      "Epoch:50, acc=0.24876461795480523, loss=9201.9462890625\n",
      "Epoch:51, acc=0.2522335288030355, loss=9344.6337890625\n",
      "Epoch:52, acc=0.25595228022675354, loss=9485.6923828125\n",
      "Epoch:53, acc=0.2593589104799867, loss=9626.41796875\n",
      "Epoch:54, acc=0.26287810843864656, loss=9765.25390625\n",
      "Epoch:55, acc=0.2662716207559257, loss=9903.4384765625\n",
      "Epoch:56, acc=0.2698292817244906, loss=10039.2197265625\n",
      "Epoch:57, acc=0.273063244162672, loss=10174.5859375\n",
      "Epoch:58, acc=0.27646879987839174, loss=10308.484375\n",
      "Epoch:59, acc=0.2797309417040359, loss=10440.9404296875\n",
      "Epoch:60, acc=0.2830919650077189, loss=10571.7060546875\n",
      "Epoch:61, acc=0.28659048170114276, loss=10702.4228515625\n",
      "Epoch:62, acc=0.2899281087621895, loss=10830.697265625\n",
      "Epoch:63, acc=0.2931824551569507, loss=10957.4501953125\n",
      "Epoch:64, acc=0.2965091410831321, loss=11082.3271484375\n",
      "Epoch:65, acc=0.29993885038728085, loss=11206.4736328125\n",
      "Epoch:66, acc=0.3032461013319055, loss=11329.986328125\n",
      "Epoch:67, acc=0.30655499868108677, loss=11451.876953125\n",
      "Epoch:68, acc=0.30978098394748815, loss=11572.4580078125\n",
      "Epoch:69, acc=0.31303010890454835, loss=11692.6259765625\n",
      "Epoch:70, acc=0.31604875892124046, loss=11812.5888671875\n",
      "Epoch:71, acc=0.3191953163926258, loss=11930.4794921875\n",
      "Epoch:72, acc=0.3222925241108176, loss=12047.0888671875\n",
      "Epoch:73, acc=0.3253242031268937, loss=12164.1611328125\n",
      "Epoch:74, acc=0.3285321375186846, loss=12279.357421875\n",
      "Epoch:75, acc=0.33150814255369365, loss=12393.583984375\n",
      "Epoch:76, acc=0.33449420534622326, loss=12506.875\n",
      "Epoch:77, acc=0.3373922042083477, loss=12618.2255859375\n",
      "Epoch:78, acc=0.3403019810410399, loss=12729.037109375\n",
      "Epoch:79, acc=0.3432455156950673, loss=12839.255859375\n",
      "Epoch:80, acc=0.346171732270387, loss=12947.767578125\n",
      "Epoch:81, acc=0.34904845236793175, loss=13055.23828125\n",
      "Epoch:82, acc=0.3519314927872927, loss=13162.892578125\n",
      "Epoch:83, acc=0.3547352124706385, loss=13269.1982421875\n",
      "Epoch:84, acc=0.35777895014508043, loss=13371.9697265625\n",
      "Epoch:85, acc=0.3605224736677443, loss=13476.216796875\n",
      "Epoch:86, acc=0.3632853976599144, loss=13580.533203125\n",
      "Epoch:87, acc=0.36605177333876887, loss=13682.783203125\n",
      "Epoch:88, acc=0.3687660603617675, loss=13784.56640625\n",
      "Epoch:89, acc=0.37157448928749376, loss=13885.3046875\n",
      "Epoch:90, acc=0.3742768442320012, loss=13984.5224609375\n",
      "Epoch:91, acc=0.3769838175082862, loss=14082.970703125\n",
      "Epoch:92, acc=0.37968561647138244, loss=14180.5654296875\n",
      "Epoch:93, acc=0.38232038927583245, loss=14277.2744140625\n",
      "Epoch:94, acc=0.3849138541420817, loss=14374.0927734375\n",
      "Epoch:95, acc=0.3876214499252616, loss=14469.34765625\n",
      "Epoch:96, acc=0.3902917109703666, loss=14564.59375\n",
      "Epoch:97, acc=0.3929989933193008, loss=14657.2216796875\n",
      "Epoch:98, acc=0.395701408705893, loss=14750.4375\n",
      "Epoch:99, acc=0.3983408071748879, loss=14843.16796875\n"
     ]
    },
    {
     "data": {
      "text/plain": [
       "(0.0665612913396861, 0.3983408071748879)"
      ]
     },
     "execution_count": 17,
     "metadata": {},
     "output_type": "execute_result"
    }
   ],
   "source": [
    "train_epoch(model,train_loader, lr=0.001)"
   ]
  },
  {
   "cell_type": "code",
   "execution_count": null,
   "id": "1bdee235-fe38-4622-9e5b-87ef8f87059b",
   "metadata": {},
   "outputs": [],
   "source": []
  }
 ],
 "metadata": {
  "kernelspec": {
   "display_name": "Python 3 (ipykernel)",
   "language": "python",
   "name": "python3"
  },
  "language_info": {
   "codemirror_mode": {
    "name": "ipython",
    "version": 3
   },
   "file_extension": ".py",
   "mimetype": "text/x-python",
   "name": "python",
   "nbconvert_exporter": "python",
   "pygments_lexer": "ipython3",
   "version": "3.9.5"
  }
 },
 "nbformat": 4,
 "nbformat_minor": 5
}
