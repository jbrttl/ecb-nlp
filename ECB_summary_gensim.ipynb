{
 "cells": [
  {
   "cell_type": "code",
   "execution_count": 22,
   "id": "6352c306-bf3d-4138-a13d-523d32d25bb4",
   "metadata": {},
   "outputs": [],
   "source": [
    "import pandas as pd\n",
    "from pprint import pprint\n",
    "# Importing package and summarizer\n",
    "import gensim"
   ]
  },
  {
   "cell_type": "code",
   "execution_count": 2,
   "id": "d099824b-0d3b-475f-bee7-f9fc9d6c5fec",
   "metadata": {},
   "outputs": [],
   "source": [
    "data = r'data/all_ECB_speeches.csv'"
   ]
  },
  {
   "cell_type": "code",
   "execution_count": 3,
   "id": "2393bdef-312c-46a0-bb39-b51b2bfa877f",
   "metadata": {},
   "outputs": [
    {
     "data": {
      "text/html": [
       "<div>\n",
       "<style scoped>\n",
       "    .dataframe tbody tr th:only-of-type {\n",
       "        vertical-align: middle;\n",
       "    }\n",
       "\n",
       "    .dataframe tbody tr th {\n",
       "        vertical-align: top;\n",
       "    }\n",
       "\n",
       "    .dataframe thead th {\n",
       "        text-align: right;\n",
       "    }\n",
       "</style>\n",
       "<table border=\"1\" class=\"dataframe\">\n",
       "  <thead>\n",
       "    <tr style=\"text-align: right;\">\n",
       "      <th></th>\n",
       "      <th>date</th>\n",
       "      <th>speakers</th>\n",
       "      <th>title</th>\n",
       "      <th>subtitle</th>\n",
       "      <th>contents</th>\n",
       "    </tr>\n",
       "  </thead>\n",
       "  <tbody>\n",
       "    <tr>\n",
       "      <th>0</th>\n",
       "      <td>2021-10-20</td>\n",
       "      <td>Frank Elderson</td>\n",
       "      <td>Overcoming the tragedy of the horizon: requiri...</td>\n",
       "      <td>Keynote speech by Frank Elderson, Member of th...</td>\n",
       "      <td>SPEECH  Overcoming the tragedy of the horiz...</td>\n",
       "    </tr>\n",
       "    <tr>\n",
       "      <th>1</th>\n",
       "      <td>2021-10-19</td>\n",
       "      <td>Fabio Panetta</td>\n",
       "      <td>“Hic sunt leones” – open research questions on...</td>\n",
       "      <td>Speech by Fabio Panetta, Member of the Executi...</td>\n",
       "      <td>SPEECH  “Hic sunt leones” – open research q...</td>\n",
       "    </tr>\n",
       "    <tr>\n",
       "      <th>2</th>\n",
       "      <td>2021-10-19</td>\n",
       "      <td>Frank Elderson</td>\n",
       "      <td>The role of supervisors and central banks in t...</td>\n",
       "      <td>Keynote speech by Frank Elderson, Member of th...</td>\n",
       "      <td>SPEECH  The role of supervisors and central...</td>\n",
       "    </tr>\n",
       "    <tr>\n",
       "      <th>3</th>\n",
       "      <td>2021-10-16</td>\n",
       "      <td>Christine Lagarde</td>\n",
       "      <td>Globalisation after the pandemic</td>\n",
       "      <td>2021 Per Jacobsson Lecture by Christine Lagard...</td>\n",
       "      <td>SPEECH  Globalisation after the pandemic   ...</td>\n",
       "    </tr>\n",
       "    <tr>\n",
       "      <th>4</th>\n",
       "      <td>2021-10-14</td>\n",
       "      <td>Christine Lagarde</td>\n",
       "      <td>IMFC Statement</td>\n",
       "      <td>Statement by Christine Lagarde, President of t...</td>\n",
       "      <td>SPEECH  IMFC Statement    Statement by Chri...</td>\n",
       "    </tr>\n",
       "  </tbody>\n",
       "</table>\n",
       "</div>"
      ],
      "text/plain": [
       "         date           speakers  \\\n",
       "0  2021-10-20     Frank Elderson   \n",
       "1  2021-10-19      Fabio Panetta   \n",
       "2  2021-10-19     Frank Elderson   \n",
       "3  2021-10-16  Christine Lagarde   \n",
       "4  2021-10-14  Christine Lagarde   \n",
       "\n",
       "                                               title  \\\n",
       "0  Overcoming the tragedy of the horizon: requiri...   \n",
       "1  “Hic sunt leones” – open research questions on...   \n",
       "2  The role of supervisors and central banks in t...   \n",
       "3                   Globalisation after the pandemic   \n",
       "4                                    IMFC Statement    \n",
       "\n",
       "                                            subtitle  \\\n",
       "0  Keynote speech by Frank Elderson, Member of th...   \n",
       "1  Speech by Fabio Panetta, Member of the Executi...   \n",
       "2  Keynote speech by Frank Elderson, Member of th...   \n",
       "3  2021 Per Jacobsson Lecture by Christine Lagard...   \n",
       "4  Statement by Christine Lagarde, President of t...   \n",
       "\n",
       "                                            contents  \n",
       "0     SPEECH  Overcoming the tragedy of the horiz...  \n",
       "1     SPEECH  “Hic sunt leones” – open research q...  \n",
       "2     SPEECH  The role of supervisors and central...  \n",
       "3     SPEECH  Globalisation after the pandemic   ...  \n",
       "4     SPEECH  IMFC Statement    Statement by Chri...  "
      ]
     },
     "execution_count": 3,
     "metadata": {},
     "output_type": "execute_result"
    }
   ],
   "source": [
    "df = pd.read_csv(data,sep='|')\n",
    "df.head()"
   ]
  },
  {
   "cell_type": "code",
   "execution_count": 4,
   "id": "32ab37a1-9b7b-46e4-8d7f-af292eb1f187",
   "metadata": {},
   "outputs": [],
   "source": [
    "#Extractive summery methods"
   ]
  },
  {
   "cell_type": "code",
   "execution_count": 7,
   "id": "6f5b0192-be7c-441a-9605-347e962cb18b",
   "metadata": {},
   "outputs": [
    {
     "name": "stderr",
     "output_type": "stream",
     "text": [
      "[nltk_data] Downloading package punkt to /Users/jbrettl/nltk_data...\n",
      "[nltk_data]   Package punkt is already up-to-date!\n"
     ]
    },
    {
     "data": {
      "text/plain": [
       "True"
      ]
     },
     "execution_count": 7,
     "metadata": {},
     "output_type": "execute_result"
    }
   ],
   "source": [
    "#!pip install sumy\n",
    "import sumy\n",
    "from sumy.parsers.plaintext import PlaintextParser\n",
    "from sumy.nlp.tokenizers import Tokenizer\n",
    "# Import the LexRank summarizer\n",
    "from sumy.summarizers.lex_rank import LexRankSummarizer\n",
    "\n",
    "import nltk\n",
    "nltk.download('punkt')"
   ]
  },
  {
   "cell_type": "code",
   "execution_count": 8,
   "id": "9c1ce59f-fef1-425e-bf2a-5f7f9529868c",
   "metadata": {},
   "outputs": [],
   "source": [
    "# Initializing the parser\n",
    "my_parser = PlaintextParser.from_string(text,Tokenizer('english'))"
   ]
  },
  {
   "cell_type": "code",
   "execution_count": 9,
   "id": "b12bb1b4-2be7-425b-9654-4dc68b3794f9",
   "metadata": {},
   "outputs": [
    {
     "name": "stdout",
     "output_type": "stream",
     "text": [
      "I will then turn to what I’ve just referred to as the next important step in risk management − transition planning − and what banks, as well as supervisors and other competent authorities, need to do in order to make it work.\n",
      "On the supervisory side, we have been taking steps to increase our understanding of the impact of the climate crisis from a financial risk perspective and ensure that banks have a comprehensive, strategic and forward-looking approach to disclosing and managing all climate-related and environmental risks, or C&E risks for short.\n",
      "Indeed, we see that some banks that declare carbon neutrality by 2050 have no strategy in place to reduce their exposures to carbon-intensive industries by 2030, nor have they made any progress in assessing their role in financing the transition of such companies.\n",
      "Even if banks comply with our supervisory expectations for the management and disclosure of C&E risks, that does not automatically mean that they have a Paris-compliant transition plan.\n",
      "First, we will need to have in place science-based European transition scenarios.\n"
     ]
    }
   ],
   "source": [
    "# Creating a summary of 3 sentences.\n",
    "lex_rank_summarizer = LexRankSummarizer()\n",
    "lexrank_summary = lex_rank_summarizer(my_parser.document,sentences_count=5)\n",
    "\n",
    "# Printing the summary\n",
    "for sentence in lexrank_summary:\n",
    "    print(sentence)"
   ]
  },
  {
   "cell_type": "code",
   "execution_count": 10,
   "id": "9d691215-47ef-4e7e-b130-b570266ea017",
   "metadata": {},
   "outputs": [],
   "source": [
    "#LSA (Latent semantic analysis)\n",
    "# Import the summarizer\n",
    "from sumy.summarizers.lsa import LsaSummarizer\n",
    "# Parsing the text string using PlaintextParser\n",
    "from sumy.nlp.tokenizers import Tokenizer\n",
    "from sumy.parsers.plaintext import PlaintextParser\n",
    "\n",
    "parser=PlaintextParser.from_string(text,Tokenizer('english'))"
   ]
  },
  {
   "cell_type": "code",
   "execution_count": 11,
   "id": "a34d06ef-3109-4061-a103-34f9ecbeb080",
   "metadata": {},
   "outputs": [
    {
     "name": "stdout",
     "output_type": "stream",
     "text": [
      "This is all the more problematic when our benchmarking shows that a majority of banks said they were exposed to medium and long-term C&E risks.\n",
      "There are also encouraging examples: many banks have started to proactively manage their transition risks and set goals for decarbonisation, net zero emissions or alignment.\n",
      "But my bottom line today is this: having processes and procedures in place, assigning responsibilities, conducting risk analyses of various sorts – these are all means to an end.\n",
      "These templates can be supplemented with tools that give us information on banks’ forward-looking alignment – or a lack thereof – vis-à-vis the European intermediate targets for carbon emissions.\n",
      "Banks should develop transition plans compatible with EU policies implementing the Paris Agreement that include concrete intermediate milestones from now until 2050, and disclose progress towards these goals on an annual basis.\n"
     ]
    }
   ],
   "source": [
    "# creating the summarizer\n",
    "lsa_summarizer=LsaSummarizer()\n",
    "lsa_summary= lsa_summarizer(parser.document,5)\n",
    "\n",
    "# Printing the summary\n",
    "for sentence in lsa_summary:\n",
    "    print(sentence)"
   ]
  },
  {
   "cell_type": "code",
   "execution_count": 12,
   "id": "8c8d405a-b122-4892-a852-bebd4ef287b6",
   "metadata": {},
   "outputs": [],
   "source": [
    "#Luhn - Luhn Summarization algorithm’s approach is based on TF-IDF (Term Frequency-Inverse Document Frequency)\n",
    "\n",
    "# Import the summarizer\n",
    "from sumy.summarizers.luhn import LuhnSummarizer\n",
    "# Creating the parser\n",
    "from sumy.nlp.tokenizers import Tokenizer\n",
    "from sumy.parsers.plaintext import PlaintextParser\n",
    "parser=PlaintextParser.from_string(text,Tokenizer('english'))"
   ]
  },
  {
   "cell_type": "code",
   "execution_count": 13,
   "id": "be5fd379-216f-4292-bd42-ae2e81a90996",
   "metadata": {},
   "outputs": [
    {
     "name": "stdout",
     "output_type": "stream",
     "text": [
      "On the supervisory side, we have been taking steps to increase our understanding of the impact of the climate crisis from a financial risk perspective and ensure that banks have a comprehensive, strategic and forward-looking approach to disclosing and managing all climate-related and environmental risks, or C&E risks for short.\n",
      "But in addition to banks’ exposures to an economy increasingly marred by climate change and banks’ own stated intentions, a legal obligation for banks to have a clear, detailed and prudent transition plan in place would increase the consistency of the regulatory and supervisory framework and contribute to maintaining a level playing field.\n",
      "This is why I believe that having in place a formal, legally binding requirement to adopt such transition plans will push banks to go beyond the mere point-in-time measurement of C&E risks and to embark on a thorough assessment of the structural changes that are likely to occur within the industries they derive their business from.\n"
     ]
    }
   ],
   "source": [
    "# Creating the summarizer\n",
    "luhn_summarizer=LuhnSummarizer()\n",
    "luhn_summary=luhn_summarizer(parser.document,sentences_count=3)\n",
    "\n",
    "# Printing the summary\n",
    "for sentence in luhn_summary:\n",
    "    print(sentence)"
   ]
  },
  {
   "cell_type": "code",
   "execution_count": 14,
   "id": "2242b6fd-af62-4c8e-ad35-8af99f513a62",
   "metadata": {},
   "outputs": [],
   "source": [
    "#KL-Sum: Another extractive method is the KL-Sum algorithm.\n",
    "#It selects sentences based on similarity of word distribution as the original text. It aims to lower the KL-divergence criteria (learn more). \n",
    "#It uses greedy optimization approach and keeps adding sentences till the KL-divergence decreases.\n",
    "\n",
    "from sumy.summarizers.kl import KLSummarizer\n",
    "# Creating the parser\n",
    "from sumy.nlp.tokenizers import Tokenizer\n",
    "from sumy.parsers.plaintext import PlaintextParser\n",
    "parser=PlaintextParser.from_string(text,Tokenizer('english'))"
   ]
  },
  {
   "cell_type": "code",
   "execution_count": 15,
   "id": "51e25a42-129d-4a0d-b157-fe4ffc225df2",
   "metadata": {},
   "outputs": [
    {
     "name": "stdout",
     "output_type": "stream",
     "text": [
      "This means that the time for preparations is over and the time for action is now.\n",
      "It should contain concrete intermediate milestones from now until 2050 and the associated key and performance indicators so that the bank’s management and the competent authorities can at all times understand the risks arising from a possible misalignment with the transition path.\n",
      "But these are global scenarios and they do not reflect the ongoing developments within the European legal framework.\n"
     ]
    }
   ],
   "source": [
    "# Instantiating the KLSummarizer\n",
    "kl_summarizer=KLSummarizer()\n",
    "kl_summary=kl_summarizer(parser.document,sentences_count=3)\n",
    "\n",
    "# Printing the summary\n",
    "for sentence in kl_summary:\n",
    "    print(sentence)"
   ]
  },
  {
   "cell_type": "code",
   "execution_count": 16,
   "id": "e758d5de-aae5-4cf1-855a-1a3dad658a33",
   "metadata": {
    "tags": []
   },
   "outputs": [],
   "source": [
    "#Abstrative summary methods\n",
    "#!pip install transformers\n",
    "#!pip install h5py"
   ]
  },
  {
   "cell_type": "code",
   "execution_count": 17,
   "id": "c70323ba-88e8-4663-9310-d6fa67fadcc8",
   "metadata": {},
   "outputs": [],
   "source": [
    "#Summarization with T5 Transformers"
   ]
  },
  {
   "cell_type": "code",
   "execution_count": 18,
   "id": "fddc8c54-aaa9-42ba-a20c-1188e5c2a268",
   "metadata": {},
   "outputs": [],
   "source": [
    "# Importing requirements\n",
    "from transformers import T5Tokenizer, T5Config, T5ForConditionalGeneration"
   ]
  },
  {
   "cell_type": "code",
   "execution_count": 19,
   "id": "16882e5d-9a44-4cf9-98a1-0dd0944ef8e0",
   "metadata": {},
   "outputs": [
    {
     "data": {
      "application/vnd.jupyter.widget-view+json": {
       "model_id": "25bbc46a1fe249bfb372c2f3687b8f2e",
       "version_major": 2,
       "version_minor": 0
      },
      "text/plain": [
       "Downloading:   0%|          | 0.00/773k [00:00<?, ?B/s]"
      ]
     },
     "metadata": {},
     "output_type": "display_data"
    },
    {
     "data": {
      "application/vnd.jupyter.widget-view+json": {
       "model_id": "3ac5c74bbb5d44dda0f074cbd36e288b",
       "version_major": 2,
       "version_minor": 0
      },
      "text/plain": [
       "Downloading:   0%|          | 0.00/1.32M [00:00<?, ?B/s]"
      ]
     },
     "metadata": {},
     "output_type": "display_data"
    }
   ],
   "source": [
    "# Instantiating the model and tokenizer\n",
    "my_model = T5ForConditionalGeneration.from_pretrained('t5-small')\n",
    "tokenizer = T5Tokenizer.from_pretrained('t5-small')"
   ]
  },
  {
   "cell_type": "code",
   "execution_count": 21,
   "id": "67ec2940-136b-4dad-bfc6-020842b4a6d8",
   "metadata": {
    "collapsed": true,
    "jupyter": {
     "outputs_hidden": true
    },
    "tags": []
   },
   "outputs": [
    {
     "data": {
      "text/plain": [
       "'summarize:   SPEECH  Overcoming the tragedy of the horizon: requiring banks to translate 2050 targets into milestones   Keynote speech by Frank Elderson, Member of the Executive Board of the ECB and Vice-Chair of the Supervisory Board of the ECB, at the Financial Market Authority’s Supervisory Conference Vienna, 20 October 2021 Introduction It is a great pleasure for me to speak here and I would like to thank the organisers for inviting me.  Today, I want to look ahead – to next year, to the next five years and to the three decades up to 2050, the year by which the EU has pledged to become carbon neutral under the Paris Agreement. Thirty years is a hair’s breadth of time: merely one-hundred-and-fifty-millionth of the earth’s 4.5 billion years of existence. A brief span indeed.  There is no doubt that time is running out for us to tackle the climate and environmental crises. What does this mean for banks? This means that the time for preparations is over and the time for action is now. Banks need to start thinking about the next important step in risk management which will require them to look at the thirty years ahead and devise intermediate targets for their risk exposures that can render them fit for a carbon-neutral economy by 2050.  Banks can no longer simply declare their intention to be Paris-compliant by 2050. They must make structural changes to their way of doing business so as to make sure that they actually reach that goal and avoid the build-up of risks for them and the entire financial system.  Let me first share some of the insights gained from our benchmark of the banks’ self-assessment against our supervisory expectations. I will then turn to what I’ve just referred to as the next important step in risk management − transition planning − and what banks, as well as supervisors and other competent authorities, need to do in order to make it work. Banks’ climate-related and environmental risk management capabilities  The ECB is committed to doing everything within its mandate to incorporate climate and environmental considerations into our activities.  On the supervisory side, we have been taking steps to increase our understanding of the impact of the climate crisis from a financial risk perspective and ensure that banks have a comprehensive, strategic and forward-looking approach to disclosing and managing all climate-related and environmental risks, or C&E risks for short. We asked banks to self-assess their position relative to these supervisory expectations and have been benchmarking their responses over the past months. We will soon publish the results and the good practices we identified in the process. I’ll offer a sneak preview of them now.  On the bright side, banks have started reflecting C&E risks in their current structures; roughly half of them are adapting their governance arrangements accordingly. Some banks have developed comprehensive dashboards for assessing C&E risks when granting credit, some are tightening their credit-granting criteria and others are measuring and disclosing the carbon emissions linked to their loan books. The gloomier side of things, though, is that the banks themselves deem 90% of their practices to be only partially or not at all compliant with the ECB’s supervisory expectations. Tellingly, the only banks that did not identify as being exposed to medium and long-term C&E risks were those which did not conduct a materiality assessment. This is all the more problematic when our benchmarking shows that a majority of banks said they were exposed to medium and long-term C&E risks. We expected them to analyse how these risks can, or will, affect their different portfolios and products over the short, medium and long-term, considering various scenarios. Given the nature of C&E risks, this forward-looking type of analysis should be elementary practice.  But the vast majority have not done this analysis. Concrete and important management tools and practices are lacking in this area. When looking for actions that go beyond a mere screening of the business environment, we found that about half of the banks under our direct supervision have few or no concrete actions planned to embed C&E risks in their business strategy.  Only a quarter of the institutions have set key indicators to monitor and steer the performance of their different business lines, portfolios and products with regard to, for example, green loan origination or their exposure to high-carbon sectors. And only a quarter of those extend these key performance indicators to more than 25% of their portfolio. No more than a fifth of the banks under our direct supervision have set a key risk indicator for C&E risks in their risk appetite statement and only about a third of these have set a concrete limit on these indicators.  There are also encouraging examples: many banks have started to proactively manage their transition risks and set goals for decarbonisation, net zero emissions or alignment. Notably, a dozen banks have started measuring and monitoring the alignment of their portfolios, defining indicators and considering how to align their strategy to the Paris Agreement while avoiding an excessive build-up of transition risks. They are no doubt making progress. And if banks are not closing the gap with our supervisory expectations, we will step up our supervisory efforts correspondingly. But my bottom line today is this: having processes and procedures in place, assigning responsibilities, conducting risk analyses of various sorts – these are all means to an end. Banks’ plans to align their practices with our expectations will ensure that they have adequate risk management capabilities to weather the storms – but these capabilities should be used more broadly.  It is time for banks to start using their toolbox for short and medium-term planning to mitigate the long-term impact of climate change on their strategies. Transition plans  As the wider economy moves and changes on the path towards the Paris goals, economic sectors will have to adjust how they operate and respond to both greener consumer preferences and new public policies – such as the carbon tax just introduced by Austria.  Banks must incorporate these structural changes in their strategic considerations and decision-making and steer their business towards a smooth transition to carbon neutrality. In its sustainable finance strategy[1], the European Commission acknowledges the need for financial institutions to improve their disclosures of sustainability targets and transition planning. In addition, the Commission’s proposal for a Corporate Sustainability Reporting Directive (CSRD) requires financial institutions to set out and disclose their transition plans – but it leaves their content and timing to the discretion of each bank, without stipulating any clear metrics, milestones or targets. In parallel, there are moves within the financial industry itself to develop and implement credible plans for the transition. In an initiative of the COP26 Private Finance Hub led by Mark Carney, the Glasgow Financial Alliance for Net Zero brings together 53 banks from 27 countries, representing almost a quarter of global banking assets. These banks are committed to aligning their business practices to net zero by 2050 and have set intermediate targets for 2030 or sooner, committing to subsequent five-year decarbonisation plans along with annual progress reports. In my view, both the legislative initiatives currently under way and the industry’s own acknowledgement of the importance of moving to transition-robust business models, implies that banks need transition plans compatible with EU policies implementing the Paris Agreement, with concrete intermediate milestones, to enhance their long-term strategies and decision-making. And I would call on the legislator to make this explicit by introducing a legally binding requirement for banks to have such Paris-compatible transition plans as a capstone to the legislative and private sector initiatives already being put in place.  These transition plans should highlight at any given point in time, from now until 2050, the bank’s alignment and potential divergences with the relevant policy objectives through which the EU implements the Paris Agreement. Such a transition plan should be part of a bank’s strategy-setting and be closely linked to its business model and business plan. It should contain concrete intermediate milestones from now until 2050 and the associated key and performance indicators so that the bank’s management and the competent authorities can at all times understand the risks arising from a possible misalignment with the transition path. If banks fail to meet these milestones, competent authorities – including prudential supervisors – will have to take appropriate measures to ensure that this failure does not result in financial risks. For ECB Banking Supervision, the main concern is the level of banks’ risks exposures. Have the exposures been sufficiently mitigated and are they prudent? Have the banks sufficiently taken into account the economy’s adaptation to the climate crisis and the associated changes in consumer preferences? As C&E risks become increasingly widespread and more material, banks will, inevitably, be exposed to them. From a supervisory perspective, adequate mitigation therefore needs to be in place. We see that more and more banks are realising this and are taking up commitments to this end. This creates the space for us to act as supervisors. But in addition to banks’ exposures to an economy increasingly marred by climate change and banks’ own stated intentions, a legal obligation for banks to have a clear, detailed and prudent transition plan in place would increase the consistency of the regulatory and supervisory framework and contribute to maintaining a level playing field.  Having references for milestones and yearly targets for every economic sector will make our oversight of banks’ transition strategies more effective and thus help the European banking sector achieve an orderly transition towards carbon neutrality, starting today.  Formulating transition plans with these characteristics must be one of the top guiding principles for banks as they step up their risk management to address the effects of the climate crisis. It was also in this context that the European Union raised its 2030 climate ambition in what is called the Fit for 55 package.  In the same vein, the ECB’s focus on these transition plans would be less on the year 2050, but rather on the intermediate points in time: 2025, 2030, 2035, 2040. Why? First, because detailed plans featuring milestones have been widely used by banks to manage other risks – a clear example of this is the crucial role that disposal plans for non-performing loans played in reducing the legacy asset burden in the European banking sector. And second, because our benchmarking shows that banks systematically fail to establish a clear link between their stated carbon emissions goals for 2050 and their concrete actions in the present and medium term. Indeed, we see that some banks that declare carbon neutrality by 2050 have no strategy in place to reduce their exposures to carbon-intensive industries by 2030, nor have they made any progress in assessing their role in financing the transition of such companies. Even if banks comply with our supervisory expectations for the management and disclosure of C&E risks, that does not automatically mean that they have a Paris-compliant transition plan.  This is why I believe that having in place a formal, legally binding requirement to adopt such transition plans will push banks to go beyond the mere point-in-time measurement of C&E risks and to embark on a thorough assessment of the structural changes that are likely to occur within the industries they derive their business from.  Long-term planning such as that involved in transition planning is a novelty as far as the risk management practices of most European banks go. As such, some novel elements will need to be in place to, on the one hand, support banks’ efforts, and on the other, allow for a robust challenging of these plans by competent authorities. There are two elements that I think are particularly crucial for this next stage for banking supervision.  First, we will need to have in place science-based European transition scenarios. So far, we have been advising banks to refer to the International Energy Agency’s reference scenarios. But these are global scenarios and they do not reflect the ongoing developments within the European legal framework.  Instead, banks can rely on the work already developed in this realm by the Network for Greening the Financial System (NGFS), which has been designing scenarios to assess the potential future impacts of climate risks under different climate policy actions. These scenarios are already a de facto international standard for central banks and supervisory authorities when performing climate stress test and scenario analysis. As suggested by the European Commission’s new sustainable finance strategy, the NGFS scenarios should be considered a starting point for testing the impact of Europe-specific transition plans, as well as guiding banks in setting their own targets. The Commission encourages EU environmental and financial authorities to work together to tailor the global NGFS scenarios to European policies in a science-based manner. Such scenarios would also speed up the development of more advanced supervisory tools for assessing the forward-looking alignment strategies contained in banks’ transition plans. In addition, EU-wide scenarios would serve as a benchmark for the financial industry as a whole and thereby promote self-discipline among market participants.  We will also need transparency and appropriate disclosures around banks’ transition plans. The European Banking Authority (EBA) Pillar III disclosures and the CSRD are steps in the right direction – but we need to be more ambitious. Currently, the EBA templates provide a snapshot of the channels through which banks can be affected by C&E risks. These templates can be supplemented with tools that give us information on banks’ forward-looking alignment – or a lack thereof – vis-à-vis the European intermediate targets for carbon emissions.  With these two elements in place, banks and we, the supervisors, would be able to assess and mitigate the prudential risks caused by any gaps between banks’ trajectories and the European benchmark.  Transition plans and ECB Banking Supervision’s climate strategy Before I conclude, I would like to clarify how transition planning fits into the ECB’s overall climate strategy for banks.  Transition plans should become the next addition to banks’ risk management practices. But they in no way pre-empt the supervisory dialogue with banks on their risk management capabilities. They are simply another, albeit crucial, element to ensure that banks manage all material risks, one we have been insisting on specifically with regard to C&E risks since 2020.  Getting banks to develop action plans to comply with the expectations that the ECB set out in its guide on C&E risks was the first step in getting them to assess and develop their risk management capabilities. Transition planning is the second step, and one that will help banks to effectively develop a mitigation strategy to soften long-term impacts. Transition planning still concerns risk management capabilities insofar as we expect banks to build on their current ones and apply them extensively. This is to ensure that banks’ strategies are sustainable as the wider economy transitions into greener production patterns and consumer preferences.  At the same time, we will continue to roll out other elements of our climate strategy. In the course of next year, we will conduct a supervisory stress test with a focus on C&E risks. In addition, we will carry out a full supervisory review of banks’ practices for incorporating C&E risks into their risk frameworks, and gradually roll out a dedicated Supervisory Review and Evaluation Process methodology that will eventually influence banks’ minimum capital requirements. But this is not the end game. Gradually we will start treating climate-related risks like any other risk and include them in all relevant supervisory requirements.  Conclusion Let me conclude.  The final results of the ECB’s benchmarking of banks’ disclosure and risk management practices for C&E risks suggest that, as things stand, European banks may be largely misaligned with the economic transition path towards carbon neutrality by 2050. The probability of them having to face sudden build-ups of prudential risks in the thirty years from now to the Paris deadline is considerable. The safest way to mitigate this risk is for banks to step up their risk management capabilities and clearly map their transitioning strategy. Banks should develop transition plans compatible with EU policies implementing the Paris Agreement that include concrete intermediate milestones from now until 2050, and disclose progress towards these goals on an annual basis. To support this effort, transition plans should become a legal requirement.  The realities of the climate crisis are everywhere. On a macroeconomic level, there is no doubt that a combination of physical and transition risks has started to emerge. Only by introducing mandatory transition plans can banks’ lofty intentions for the next 30 years be turned into concrete actions now. Such mandatory transition plans can help avert the tragedy of the horizon. But this next step in risk management needs to be taken today. We don’t have thirty years; we don’t even have ten years. In the earth’s timescale, all we have between today and 2050 is a blink of an eye.     European Commission (2021) Strategy for financing the transition to a sustainable economy.    '"
      ]
     },
     "execution_count": 21,
     "metadata": {},
     "output_type": "execute_result"
    }
   ],
   "source": [
    "# Concatenating the word \"summarize:\" to raw text\n",
    "text = \"summarize:\" + text\n",
    "text"
   ]
  },
  {
   "cell_type": "code",
   "execution_count": 24,
   "id": "c576c979-7502-4469-a914-0be7645da803",
   "metadata": {},
   "outputs": [
    {
     "name": "stderr",
     "output_type": "stream",
     "text": [
      "Truncation was not explicitly activated but `max_length` is provided a specific value, please use `truncation=True` to explicitly truncate examples to max length. Defaulting to 'longest_first' truncation strategy. If you encode pairs of sequences (GLUE-style) with the tokenizer you can select this strategy more precisely by providing a specific strategy to `truncation`.\n"
     ]
    }
   ],
   "source": [
    "# encoding the input text\n",
    "input_ids=tokenizer.encode(text, return_tensors='pt', max_length=512)"
   ]
  },
  {
   "cell_type": "code",
   "execution_count": 41,
   "id": "72e8c160-84df-4244-ab39-488ed7bb0005",
   "metadata": {},
   "outputs": [
    {
     "data": {
      "text/plain": [
       "tensor([[    0,     3,     9,   843,  7977,  5023,    57,  4937, 21297,   739,\n",
       "             6,  1144,    13,     8,     3,  3073,   279,    11,  6444,    18]])"
      ]
     },
     "execution_count": 41,
     "metadata": {},
     "output_type": "execute_result"
    }
   ],
   "source": [
    "# Generating summary ids\n",
    "summary_ids = my_model.generate(input_ids,min_length=300)\n",
    "summary_ids"
   ]
  },
  {
   "cell_type": "code",
   "execution_count": 43,
   "id": "35c65bf7-b08d-47ee-bf6a-f196c3676b51",
   "metadata": {},
   "outputs": [
    {
     "name": "stdout",
     "output_type": "stream",
     "text": [
      "<pad> a keynote speech by Frank Elderson, member of the ECB and vice-\n"
     ]
    }
   ],
   "source": [
    "# Decoding the tensor and printing the summary.\n",
    "t5_summary = tokenizer.decode(summary_ids[0])\n",
    "print(t5_summary)"
   ]
  },
  {
   "cell_type": "code",
   "execution_count": 44,
   "id": "a2c84d86-5fd7-4d66-8b27-400fbd2a386a",
   "metadata": {},
   "outputs": [],
   "source": [
    "# Importing the model\n",
    "from transformers import BartForConditionalGeneration, BartTokenizer, BartConfig"
   ]
  },
  {
   "cell_type": "code",
   "execution_count": 45,
   "id": "8c83ba04-3ea2-4eb1-923a-5b87f81a2952",
   "metadata": {},
   "outputs": [
    {
     "data": {
      "application/vnd.jupyter.widget-view+json": {
       "model_id": "9886775d2ec34105b87fbc97fbe1298f",
       "version_major": 2,
       "version_minor": 0
      },
      "text/plain": [
       "Downloading:   0%|          | 0.00/878k [00:00<?, ?B/s]"
      ]
     },
     "metadata": {},
     "output_type": "display_data"
    },
    {
     "data": {
      "application/vnd.jupyter.widget-view+json": {
       "model_id": "78c235376bff4e34aab193383a641e71",
       "version_major": 2,
       "version_minor": 0
      },
      "text/plain": [
       "Downloading:   0%|          | 0.00/446k [00:00<?, ?B/s]"
      ]
     },
     "metadata": {},
     "output_type": "display_data"
    },
    {
     "data": {
      "application/vnd.jupyter.widget-view+json": {
       "model_id": "6fb7af7dda7d4508be1035b72eb72c96",
       "version_major": 2,
       "version_minor": 0
      },
      "text/plain": [
       "Downloading:   0%|          | 0.00/1.29M [00:00<?, ?B/s]"
      ]
     },
     "metadata": {},
     "output_type": "display_data"
    },
    {
     "data": {
      "application/vnd.jupyter.widget-view+json": {
       "model_id": "ed8c6352e84b4171b7ebf9ea8b7be8d2",
       "version_major": 2,
       "version_minor": 0
      },
      "text/plain": [
       "Downloading:   0%|          | 0.00/1.55k [00:00<?, ?B/s]"
      ]
     },
     "metadata": {},
     "output_type": "display_data"
    },
    {
     "data": {
      "application/vnd.jupyter.widget-view+json": {
       "model_id": "230654c44f104e7f96fa9440ab888b20",
       "version_major": 2,
       "version_minor": 0
      },
      "text/plain": [
       "Downloading:   0%|          | 0.00/1.51G [00:00<?, ?B/s]"
      ]
     },
     "metadata": {},
     "output_type": "display_data"
    }
   ],
   "source": [
    "# Loading the model and tokenizer for bart-large-cnn\n",
    "\n",
    "tokenizer=BartTokenizer.from_pretrained('facebook/bart-large-cnn')\n",
    "model=BartForConditionalGeneration.from_pretrained('facebook/bart-large-cnn')"
   ]
  },
  {
   "cell_type": "code",
   "execution_count": 59,
   "id": "3c2bbe66-f0d0-44ef-9055-b8dffd8f8e22",
   "metadata": {},
   "outputs": [],
   "source": [
    "# Encoding the inputs and passing them to model.generate()\n",
    "inputs = tokenizer.batch_encode_plus([text],return_tensors='pt',truncation=True,max_length=1000)\n",
    "summary_ids = model.generate(inputs['input_ids'], early_stopping=True)"
   ]
  },
  {
   "cell_type": "code",
   "execution_count": 62,
   "id": "19ecbff7-719b-4ef7-a792-a391e939f654",
   "metadata": {},
   "outputs": [
    {
     "name": "stdout",
     "output_type": "stream",
     "text": [
      "Time is running out for us to tackle the climate and environmental crises. Banks can no longer simply declare their intention to be Paris-compliant by 2050. They must make structural changes to their way of doing business so as to make sure that they actually reach that goal and avoid the build-up of risks.\n"
     ]
    }
   ],
   "source": [
    "# Decoding and printing the summary\n",
    "bart_summary = tokenizer.decode(summary_ids[0], skip_special_tokens=True)\n",
    "print(bart_summary)"
   ]
  },
  {
   "cell_type": "code",
   "execution_count": 68,
   "id": "8d859133-0786-4cba-9d27-9618c7946ef5",
   "metadata": {},
   "outputs": [
    {
     "name": "stderr",
     "output_type": "stream",
     "text": [
      "Setting `pad_token_id` to `eos_token_id`:50256 for open-end generation.\n",
      "Input length of input_ids is 300, but ``max_length`` is set to 20. This can lead to unexpected behavior. You should consider increasing ``config.max_length`` or ``max_length``.\n"
     ]
    },
    {
     "name": "stdout",
     "output_type": "stream",
     "text": [
      "summarize:   SPEECH  Overcoming the tragedy of the horizon: requiring banks to translate 2050 targets into milestones   Keynote speech by Frank Elderson, Member of the Executive Board of the ECB and Vice-Chair of the Supervisory Board of the ECB, at the Financial Market Authority’s Supervisory Conference Vienna, 20 October 2021 Introduction It is a great pleasure for me to speak here and I would like to thank the organisers for inviting me.  Today, I want to look ahead – to next year, to the next five years and to the three decades up to 2050, the year by which the EU has pledged to become carbon neutral under the Paris Agreement. Thirty years is a hair’s breadth of time: merely one-hundred-and-fifty-millionth of the earth’s 4.5 billion years of existence. A brief span indeed.  There is no doubt that time is running out for us to tackle the climate and environmental crises. What does this mean for banks? This means that the time for preparations is over and the time for action is now. Banks need to start thinking about the next important step in risk management which will require them to look at the thirty years ahead and devise intermediate targets for their risk exposures that can render them fit for a carbon-neutral economy by 2050.  Banks can no longer simply declare their intention to be Paris-compliant by 2050. They must make structural changes to their risk\n"
     ]
    }
   ],
   "source": [
    "# Importing model and tokenizer\n",
    "from transformers import GPT2Tokenizer,GPT2LMHeadModel\n",
    "\n",
    "# Instantiating the model and tokenizer with gpt-2\n",
    "tokenizer=GPT2Tokenizer.from_pretrained('gpt2')\n",
    "model=GPT2LMHeadModel.from_pretrained('gpt2')\n",
    "\n",
    "# Encoding text to get input ids & pass them to model.generate()\n",
    "inputs=tokenizer.batch_encode_plus([text],return_tensors='pt',truncation=True,max_length=300)\n",
    "summary_ids=model.generate(inputs['input_ids'],early_stopping=True)\n",
    "\n",
    "# Decoding and printing summary\n",
    "\n",
    "GPT_summary=tokenizer.decode(summary_ids[0],skip_special_tokens=True)\n",
    "print(GPT_summary)"
   ]
  },
  {
   "cell_type": "code",
   "execution_count": 69,
   "id": "8560440d-8a70-49a0-b520-95f836820d28",
   "metadata": {},
   "outputs": [
    {
     "name": "stderr",
     "output_type": "stream",
     "text": [
      "Some weights of XLMWithLMHeadModel were not initialized from the model checkpoint at xlm-mlm-en-2048 and are newly initialized: ['transformer.position_ids']\n",
      "You should probably TRAIN this model on a down-stream task to be able to use it for predictions and inference.\n",
      "Input length of input_ids is 300, but ``max_length`` is set to 20. This can lead to unexpected behavior. You should consider increasing ``config.max_length`` or ``max_length``.\n"
     ]
    },
    {
     "name": "stdout",
     "output_type": "stream",
     "text": [
      "summarize : speech overcoming the tragedy of the horizon : requiring banks to translate 2050 targets into milestones keynote speech by frank elderson, member of the executive board of the ecb and vice-chair of the supervisory board of the ecb, at the financial market authority's supervisory conference vienna, 20 october 2021 introduction it is a great pleasure for me to speak here and i would like to thank the organisers for inviting me. today, i want to look ahead - to next year, to the next five years and to the three decades up to 2050, the year by which the eu has pledged to become carbon neutral under the paris agreement. thirty years is a hair's breadth of time : merely one-hundred-and-fifty-millionth of the earth's 4.5 billion years of existence. a brief span indeed. there is no doubt that time is running out for us to tackle the climate and environmental crises. what does this mean for banks? this means that the time for preparations is over and the time for action is now. banks need to start thinking about the next important step in risk management which will require them to look at the thirty years ahead and devise intermediate targets for their risk exposures that can render them fit for a carbon-neutral economy by 2050. banks can no longer simply declare their intention to be paris-compliant by 2050. they must make structural changes to their way of doing business so as time\n"
     ]
    }
   ],
   "source": [
    "# Importing model and tokenizer\n",
    "from transformers import XLMWithLMHeadModel, XLMTokenizer\n",
    "\n",
    "# Instantiating the model and tokenizer\n",
    "tokenizer=XLMTokenizer.from_pretrained('xlm-mlm-en-2048')\n",
    "model=XLMWithLMHeadModel.from_pretrained('xlm-mlm-en-2048')\n",
    "\n",
    "# Encoding text to get input ids & pass them to model.generate()\n",
    "inputs=tokenizer.batch_encode_plus([text],return_tensors='pt',truncation=True,max_length=300)\n",
    "summary_ids=model.generate(inputs['input_ids'],early_stopping=True)\n",
    "\n",
    "# Decode and print the summary\n",
    "XLM_summary=tokenizer.decode(summary_ids[0],skip_special_tokens=True)\n",
    "print(XLM_summary)"
   ]
  }
 ],
 "metadata": {
  "kernelspec": {
   "display_name": "Python 3 (ipykernel)",
   "language": "python",
   "name": "python3"
  },
  "language_info": {
   "codemirror_mode": {
    "name": "ipython",
    "version": 3
   },
   "file_extension": ".py",
   "mimetype": "text/x-python",
   "name": "python",
   "nbconvert_exporter": "python",
   "pygments_lexer": "ipython3",
   "version": "3.9.5"
  }
 },
 "nbformat": 4,
 "nbformat_minor": 5
}
